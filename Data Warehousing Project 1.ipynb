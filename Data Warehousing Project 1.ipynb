{
 "cells": [
  {
   "cell_type": "code",
   "execution_count": 460,
   "id": "2aeaf6e9",
   "metadata": {},
   "outputs": [],
   "source": [
    "import numpy as np\n",
    "import pandas as pd"
   ]
  },
  {
   "cell_type": "code",
   "execution_count": 461,
   "id": "fee65f06",
   "metadata": {},
   "outputs": [],
   "source": [
    "seek = pd.read_csv('seek_australia.csv')"
   ]
  },
  {
   "cell_type": "code",
   "execution_count": 462,
   "id": "f87451df",
   "metadata": {},
   "outputs": [
    {
     "data": {
      "text/html": [
       "<div>\n",
       "<style scoped>\n",
       "    .dataframe tbody tr th:only-of-type {\n",
       "        vertical-align: middle;\n",
       "    }\n",
       "\n",
       "    .dataframe tbody tr th {\n",
       "        vertical-align: top;\n",
       "    }\n",
       "\n",
       "    .dataframe thead th {\n",
       "        text-align: right;\n",
       "    }\n",
       "</style>\n",
       "<table border=\"1\" class=\"dataframe\">\n",
       "  <thead>\n",
       "    <tr style=\"text-align: right;\">\n",
       "      <th></th>\n",
       "      <th>category</th>\n",
       "      <th>city</th>\n",
       "      <th>company_name</th>\n",
       "      <th>geo</th>\n",
       "      <th>job_board</th>\n",
       "      <th>job_description</th>\n",
       "      <th>job_title</th>\n",
       "      <th>job_type</th>\n",
       "      <th>post_date</th>\n",
       "      <th>salary_offered</th>\n",
       "      <th>state</th>\n",
       "      <th>url</th>\n",
       "    </tr>\n",
       "  </thead>\n",
       "  <tbody>\n",
       "    <tr>\n",
       "      <th>0</th>\n",
       "      <td>Retail &amp; Consumer Products</td>\n",
       "      <td>Sydney</td>\n",
       "      <td>Frontline Executive Retail Sydney</td>\n",
       "      <td>AU</td>\n",
       "      <td>seek</td>\n",
       "      <td>Have you had 10 years experience in fresh pro...</td>\n",
       "      <td>Store Manager - Fresh Produce</td>\n",
       "      <td>Full Time</td>\n",
       "      <td>2018-04-15T23:13:45Z</td>\n",
       "      <td>$100k Base + Super + Benefits</td>\n",
       "      <td>North Shore &amp; Northern Beaches</td>\n",
       "      <td>https://www.seek.com.au/job/35989382</td>\n",
       "    </tr>\n",
       "    <tr>\n",
       "      <th>1</th>\n",
       "      <td>Government &amp; Defence</td>\n",
       "      <td>Brisbane</td>\n",
       "      <td>Powerlink</td>\n",
       "      <td>AU</td>\n",
       "      <td>seek</td>\n",
       "      <td>The Opportunity: The Client Solution Analyst ...</td>\n",
       "      <td>Client Solution Analyst</td>\n",
       "      <td>Full Time</td>\n",
       "      <td>2018-04-15T23:04:40Z</td>\n",
       "      <td>Excellent remuneration packages</td>\n",
       "      <td>Northern Suburbs</td>\n",
       "      <td>https://www.seek.com.au/job/35989272</td>\n",
       "    </tr>\n",
       "    <tr>\n",
       "      <th>2</th>\n",
       "      <td>Trades &amp; Services</td>\n",
       "      <td>Sydney</td>\n",
       "      <td>Richard Jay Laundry</td>\n",
       "      <td>AU</td>\n",
       "      <td>seek</td>\n",
       "      <td>An innovative business development role for a...</td>\n",
       "      <td>Service Technician / Installer - NSW</td>\n",
       "      <td>Full Time</td>\n",
       "      <td>2018-04-15T23:04:31Z</td>\n",
       "      <td>NaN</td>\n",
       "      <td>Parramatta &amp; Western Suburbs</td>\n",
       "      <td>https://www.seek.com.au/job/35989270</td>\n",
       "    </tr>\n",
       "    <tr>\n",
       "      <th>3</th>\n",
       "      <td>Trades &amp; Services</td>\n",
       "      <td>Melbourne</td>\n",
       "      <td>Adaptalift Hyster</td>\n",
       "      <td>AU</td>\n",
       "      <td>seek</td>\n",
       "      <td>About the role: We are seeking an Automotive W...</td>\n",
       "      <td>Workshop Technician I Material Handling Equipment</td>\n",
       "      <td>Full Time</td>\n",
       "      <td>2018-04-16T03:15:17Z</td>\n",
       "      <td>NaN</td>\n",
       "      <td>Bayside &amp; South Eastern Suburbs</td>\n",
       "      <td>https://www.seek.com.au/job/35993203</td>\n",
       "    </tr>\n",
       "    <tr>\n",
       "      <th>4</th>\n",
       "      <td>Trades &amp; Services</td>\n",
       "      <td>Adelaide</td>\n",
       "      <td>Bakers Delight G&amp;M</td>\n",
       "      <td>AU</td>\n",
       "      <td>seek</td>\n",
       "      <td>Â Early starts and weekend shifts. No experie...</td>\n",
       "      <td>APPRENTICESHIP JUNIOR BAKER</td>\n",
       "      <td>Full Time</td>\n",
       "      <td>2018-04-16T01:26:50Z</td>\n",
       "      <td>NaN</td>\n",
       "      <td>NaN</td>\n",
       "      <td>https://www.seek.com.au/job/35991578</td>\n",
       "    </tr>\n",
       "  </tbody>\n",
       "</table>\n",
       "</div>"
      ],
      "text/plain": [
       "                     category       city                       company_name  \\\n",
       "0  Retail & Consumer Products     Sydney  Frontline Executive Retail Sydney   \n",
       "1        Government & Defence   Brisbane                          Powerlink   \n",
       "2           Trades & Services     Sydney                Richard Jay Laundry   \n",
       "3           Trades & Services  Melbourne                  Adaptalift Hyster   \n",
       "4           Trades & Services   Adelaide                 Bakers Delight G&M   \n",
       "\n",
       "  geo job_board                                    job_description  \\\n",
       "0  AU      seek   Have you had 10 years experience in fresh pro...   \n",
       "1  AU      seek   The Opportunity: The Client Solution Analyst ...   \n",
       "2  AU      seek   An innovative business development role for a...   \n",
       "3  AU      seek  About the role: We are seeking an Automotive W...   \n",
       "4  AU      seek   Â Early starts and weekend shifts. No experie...   \n",
       "\n",
       "                                           job_title   job_type  \\\n",
       "0                      Store Manager - Fresh Produce  Full Time   \n",
       "1                            Client Solution Analyst  Full Time   \n",
       "2               Service Technician / Installer - NSW  Full Time   \n",
       "3  Workshop Technician I Material Handling Equipment  Full Time   \n",
       "4                        APPRENTICESHIP JUNIOR BAKER  Full Time   \n",
       "\n",
       "              post_date                   salary_offered  \\\n",
       "0  2018-04-15T23:13:45Z    $100k Base + Super + Benefits   \n",
       "1  2018-04-15T23:04:40Z  Excellent remuneration packages   \n",
       "2  2018-04-15T23:04:31Z                              NaN   \n",
       "3  2018-04-16T03:15:17Z                              NaN   \n",
       "4  2018-04-16T01:26:50Z                              NaN   \n",
       "\n",
       "                             state                                   url  \n",
       "0   North Shore & Northern Beaches  https://www.seek.com.au/job/35989382  \n",
       "1                 Northern Suburbs  https://www.seek.com.au/job/35989272  \n",
       "2     Parramatta & Western Suburbs  https://www.seek.com.au/job/35989270  \n",
       "3  Bayside & South Eastern Suburbs  https://www.seek.com.au/job/35993203  \n",
       "4                              NaN  https://www.seek.com.au/job/35991578  "
      ]
     },
     "execution_count": 462,
     "metadata": {},
     "output_type": "execute_result"
    }
   ],
   "source": [
    "seek.head()"
   ]
  },
  {
   "cell_type": "markdown",
   "id": "1b899d44",
   "metadata": {},
   "source": [
    "creating quarter for each post date to do analysis on quarter level "
   ]
  },
  {
   "cell_type": "code",
   "execution_count": 463,
   "id": "28b129ed",
   "metadata": {},
   "outputs": [],
   "source": [
    "seek['quarter'] = pd.to_datetime(seek['post_date']).dt.quarter"
   ]
  },
  {
   "cell_type": "markdown",
   "id": "be5dec0c",
   "metadata": {},
   "source": [
    "Function to transform numerical values of quarter to values starting with Q like Q1, Q2, Q3 & Q4"
   ]
  },
  {
   "cell_type": "code",
   "execution_count": 464,
   "id": "db08b958",
   "metadata": {},
   "outputs": [],
   "source": [
    "def quarter_transform(quarter):\n",
    "    quarter_final = []\n",
    "    for quar in quarter:\n",
    "        quarter_final += ['Q' + str(quar)]\n",
    "    \n",
    "    return quarter_final"
   ]
  },
  {
   "cell_type": "code",
   "execution_count": 465,
   "id": "e6776c55",
   "metadata": {},
   "outputs": [],
   "source": [
    "seek['quarter'] = quarter_transform(seek['quarter'])"
   ]
  },
  {
   "cell_type": "markdown",
   "id": "b71c5057",
   "metadata": {},
   "source": [
    "Function to transform salary_offered column depending on the mention of salary number in job listing "
   ]
  },
  {
   "cell_type": "code",
   "execution_count": 466,
   "id": "62123859",
   "metadata": {},
   "outputs": [],
   "source": [
    "def salary_transform(column):\n",
    "    salary_final = []\n",
    "    for salary in column:\n",
    "        \n",
    "        #The conditions here checks for na or missing values and whether the string contains any digit\n",
    "        if salary == salary and any(char.isdigit() for char in salary):\n",
    "            salary_final += ['1']\n",
    "        else:\n",
    "            salary_final += ['0']\n",
    "    \n",
    "    return salary_final\n",
    "            "
   ]
  },
  {
   "cell_type": "code",
   "execution_count": 467,
   "id": "bb5d13ab",
   "metadata": {},
   "outputs": [],
   "source": [
    "seek['salary'] = salary_transform(seek['salary_offered'])"
   ]
  },
  {
   "cell_type": "markdown",
   "id": "2f3dbe7c",
   "metadata": {},
   "source": [
    "We will drop few columns such as url, job_description and salary_offered"
   ]
  },
  {
   "cell_type": "code",
   "execution_count": 468,
   "id": "6719304f",
   "metadata": {},
   "outputs": [],
   "source": [
    "seek = seek.drop(['url', 'job_description', 'salary_offered'], axis = 1)"
   ]
  },
  {
   "cell_type": "markdown",
   "id": "d45725ee",
   "metadata": {},
   "source": [
    "Function to split the post_date to column to year, month and day"
   ]
  },
  {
   "cell_type": "code",
   "execution_count": 469,
   "id": "92820977",
   "metadata": {},
   "outputs": [],
   "source": [
    "def split_date(date_ls):\n",
    "    year = []\n",
    "    month = []\n",
    "    day = []\n",
    "    for date in date_ls:\n",
    "        if '-' in date:\n",
    "            date = date.split('-')\n",
    "            year += [date[0]]\n",
    "            month += [date[1]]\n",
    "            day += [date[2][0:2]]\n",
    "        else:\n",
    "            date = date.split('/')\n",
    "            year += [date[2]]\n",
    "            month += [date[0]]\n",
    "            day += [date[1]]\n",
    "        \n",
    "    return year, month, day"
   ]
  },
  {
   "cell_type": "code",
   "execution_count": 470,
   "id": "d78a83f0",
   "metadata": {},
   "outputs": [],
   "source": [
    "year, month, day = split_date(seek['post_date'])"
   ]
  },
  {
   "cell_type": "code",
   "execution_count": 471,
   "id": "d3922717",
   "metadata": {},
   "outputs": [],
   "source": [
    "seek['year'] = year\n",
    "seek['month'] = month\n",
    "seek['day'] = day"
   ]
  },
  {
   "cell_type": "code",
   "execution_count": 472,
   "id": "9595b498",
   "metadata": {},
   "outputs": [],
   "source": [
    "seek = seek.drop('post_date', axis = 1)"
   ]
  },
  {
   "cell_type": "markdown",
   "id": "1eb912eb",
   "metadata": {},
   "source": [
    "Reordering columns after splitting date to year, month and day"
   ]
  },
  {
   "cell_type": "code",
   "execution_count": 473,
   "id": "ee36bb2b",
   "metadata": {},
   "outputs": [],
   "source": [
    "seek = seek[['category', 'city', 'company_name', 'geo', 'job_board', 'job_title', 'job_type', 'year', 'quarter', 'month', 'day', \n",
    "             'salary', 'state']]"
   ]
  },
  {
   "cell_type": "markdown",
   "id": "dbc796c5",
   "metadata": {},
   "source": [
    "Now we will read reed data"
   ]
  },
  {
   "cell_type": "code",
   "execution_count": 485,
   "id": "40d8d083",
   "metadata": {},
   "outputs": [],
   "source": [
    "reed = pd.read_csv('reed_uk.csv')"
   ]
  },
  {
   "cell_type": "code",
   "execution_count": 486,
   "id": "48d9b6ff",
   "metadata": {},
   "outputs": [
    {
     "data": {
      "text/html": [
       "<div>\n",
       "<style scoped>\n",
       "    .dataframe tbody tr th:only-of-type {\n",
       "        vertical-align: middle;\n",
       "    }\n",
       "\n",
       "    .dataframe tbody tr th {\n",
       "        vertical-align: top;\n",
       "    }\n",
       "\n",
       "    .dataframe thead th {\n",
       "        text-align: right;\n",
       "    }\n",
       "</style>\n",
       "<table border=\"1\" class=\"dataframe\">\n",
       "  <thead>\n",
       "    <tr style=\"text-align: right;\">\n",
       "      <th></th>\n",
       "      <th>category</th>\n",
       "      <th>city</th>\n",
       "      <th>company_name</th>\n",
       "      <th>geo</th>\n",
       "      <th>job_board</th>\n",
       "      <th>job_description</th>\n",
       "      <th>job_requirements</th>\n",
       "      <th>job_title</th>\n",
       "      <th>job_type</th>\n",
       "      <th>post_date</th>\n",
       "      <th>salary_offered</th>\n",
       "      <th>state</th>\n",
       "    </tr>\n",
       "  </thead>\n",
       "  <tbody>\n",
       "    <tr>\n",
       "      <th>0</th>\n",
       "      <td>catering jobs</td>\n",
       "      <td>Chudleigh</td>\n",
       "      <td>Haulfryn Group</td>\n",
       "      <td>uk</td>\n",
       "      <td>reed</td>\n",
       "      <td>Apply now New opportunity not to be missed! H...</td>\n",
       "      <td>NaN</td>\n",
       "      <td>Commis Chef</td>\n",
       "      <td>Permanent, full-time</td>\n",
       "      <td>3/12/2018</td>\n",
       "      <td>£18,323 per annum</td>\n",
       "      <td>Devon</td>\n",
       "    </tr>\n",
       "    <tr>\n",
       "      <th>1</th>\n",
       "      <td>law jobs</td>\n",
       "      <td>Swindon</td>\n",
       "      <td>Reed</td>\n",
       "      <td>uk</td>\n",
       "      <td>reed</td>\n",
       "      <td>Apply now This role requires an experienced s...</td>\n",
       "      <td>NaN</td>\n",
       "      <td>Corporate Legal Secretary</td>\n",
       "      <td>Permanent, full-time</td>\n",
       "      <td>3/8/2018</td>\n",
       "      <td>£18,000 - £22,000 per annum</td>\n",
       "      <td>Wiltshire</td>\n",
       "    </tr>\n",
       "    <tr>\n",
       "      <th>2</th>\n",
       "      <td>factory jobs</td>\n",
       "      <td>Norfolk</td>\n",
       "      <td>Swanstaff Recruitment Ltd</td>\n",
       "      <td>uk</td>\n",
       "      <td>reed</td>\n",
       "      <td>Apply now Job Title: Warehouse personLocation...</td>\n",
       "      <td>NaN</td>\n",
       "      <td>Warehouse Person</td>\n",
       "      <td>Permanent, full-time</td>\n",
       "      <td>2/27/2018</td>\n",
       "      <td>Salary not specified</td>\n",
       "      <td>East Anglia</td>\n",
       "    </tr>\n",
       "    <tr>\n",
       "      <th>3</th>\n",
       "      <td>law jobs</td>\n",
       "      <td>Hurstpierpoint</td>\n",
       "      <td>Castles Solicitors</td>\n",
       "      <td>uk</td>\n",
       "      <td>reed</td>\n",
       "      <td>Apply now Castles Solicitors are looking for ...</td>\n",
       "      <td>Required skills Admin Case Management Corresp...</td>\n",
       "      <td>Legal Secretary / Admin Assistant</td>\n",
       "      <td>Permanent, full-time or part-time</td>\n",
       "      <td>2/21/2018</td>\n",
       "      <td>£15,000 - £17,000 per annum, pro-rata</td>\n",
       "      <td>West Sussex</td>\n",
       "    </tr>\n",
       "    <tr>\n",
       "      <th>4</th>\n",
       "      <td>factory jobs</td>\n",
       "      <td>Hertfordshire</td>\n",
       "      <td>Marketplace Group</td>\n",
       "      <td>uk</td>\n",
       "      <td>reed</td>\n",
       "      <td>Apply now International Pharmaceutical Manufa...</td>\n",
       "      <td>NaN</td>\n",
       "      <td>Category Planner - Pharmaceutical</td>\n",
       "      <td>Permanent, full-time</td>\n",
       "      <td>3/1/2018</td>\n",
       "      <td>£37,000 - £45,000 per annum</td>\n",
       "      <td>South East England</td>\n",
       "    </tr>\n",
       "  </tbody>\n",
       "</table>\n",
       "</div>"
      ],
      "text/plain": [
       "        category            city                company_name geo job_board  \\\n",
       "0  catering jobs       Chudleigh             Haulfryn Group   uk      reed   \n",
       "1       law jobs         Swindon                       Reed   uk      reed   \n",
       "2   factory jobs         Norfolk  Swanstaff Recruitment Ltd   uk      reed   \n",
       "3       law jobs  Hurstpierpoint         Castles Solicitors   uk      reed   \n",
       "4   factory jobs   Hertfordshire          Marketplace Group   uk      reed   \n",
       "\n",
       "                                     job_description  \\\n",
       "0   Apply now New opportunity not to be missed! H...   \n",
       "1   Apply now This role requires an experienced s...   \n",
       "2   Apply now Job Title: Warehouse personLocation...   \n",
       "3   Apply now Castles Solicitors are looking for ...   \n",
       "4   Apply now International Pharmaceutical Manufa...   \n",
       "\n",
       "                                    job_requirements  \\\n",
       "0                                                NaN   \n",
       "1                                                NaN   \n",
       "2                                                NaN   \n",
       "3   Required skills Admin Case Management Corresp...   \n",
       "4                                                NaN   \n",
       "\n",
       "                           job_title                           job_type  \\\n",
       "0                        Commis Chef               Permanent, full-time   \n",
       "1          Corporate Legal Secretary               Permanent, full-time   \n",
       "2                   Warehouse Person               Permanent, full-time   \n",
       "3  Legal Secretary / Admin Assistant  Permanent, full-time or part-time   \n",
       "4  Category Planner - Pharmaceutical               Permanent, full-time   \n",
       "\n",
       "   post_date                           salary_offered               state  \n",
       "0  3/12/2018                       £18,323 per annum                Devon  \n",
       "1   3/8/2018             £18,000 - £22,000 per annum            Wiltshire  \n",
       "2  2/27/2018                    Salary not specified          East Anglia  \n",
       "3  2/21/2018   £15,000 - £17,000 per annum, pro-rata          West Sussex  \n",
       "4   3/1/2018             £37,000 - £45,000 per annum   South East England  "
      ]
     },
     "execution_count": 486,
     "metadata": {},
     "output_type": "execute_result"
    }
   ],
   "source": [
    "reed.head()"
   ]
  },
  {
   "cell_type": "code",
   "execution_count": 487,
   "id": "a750008b",
   "metadata": {},
   "outputs": [
    {
     "data": {
      "text/plain": [
       "(50000, 12)"
      ]
     },
     "execution_count": 487,
     "metadata": {},
     "output_type": "execute_result"
    }
   ],
   "source": [
    "reed.shape"
   ]
  },
  {
   "cell_type": "markdown",
   "id": "bb938a30",
   "metadata": {},
   "source": [
    "creating quarter for each post date to do analysis on quarter level "
   ]
  },
  {
   "cell_type": "code",
   "execution_count": 488,
   "id": "9c5cffd5",
   "metadata": {},
   "outputs": [],
   "source": [
    "reed['quarter'] = pd.to_datetime(reed['post_date']).dt.quarter"
   ]
  },
  {
   "cell_type": "markdown",
   "id": "6e0de70b",
   "metadata": {},
   "source": [
    "Transforming numerical values of quarter to values starting with Q like Q1, Q2, Q3 & Q4"
   ]
  },
  {
   "cell_type": "code",
   "execution_count": 489,
   "id": "bb85eadb",
   "metadata": {},
   "outputs": [],
   "source": [
    "reed['quarter'] = quarter_transform(reed['quarter'])"
   ]
  },
  {
   "cell_type": "code",
   "execution_count": 490,
   "id": "a529d991",
   "metadata": {},
   "outputs": [],
   "source": [
    "reed['salary'] = salary_transform(reed['salary_offered'])"
   ]
  },
  {
   "cell_type": "markdown",
   "id": "53b1b393",
   "metadata": {},
   "source": [
    "We will drop few columns such as job_requirements, job_description and salary_offered"
   ]
  },
  {
   "cell_type": "code",
   "execution_count": 491,
   "id": "29db5958",
   "metadata": {},
   "outputs": [],
   "source": [
    "reed = reed.drop(['job_description', 'job_requirements', 'salary_offered'], axis = 1)"
   ]
  },
  {
   "cell_type": "code",
   "execution_count": 492,
   "id": "2c1f36fa",
   "metadata": {},
   "outputs": [],
   "source": [
    "year, month, day = split_date(reed['post_date'])"
   ]
  },
  {
   "cell_type": "code",
   "execution_count": 493,
   "id": "ccd1a94e",
   "metadata": {},
   "outputs": [],
   "source": [
    "reed['year'] = year\n",
    "reed['month'] = month\n",
    "reed['day'] = day"
   ]
  },
  {
   "cell_type": "code",
   "execution_count": 494,
   "id": "146f0b1e",
   "metadata": {},
   "outputs": [],
   "source": [
    "reed = reed.drop('post_date', axis = 1)"
   ]
  },
  {
   "cell_type": "markdown",
   "id": "9bd326b7",
   "metadata": {},
   "source": [
    "Reordering columns after splitting date to year, month and day"
   ]
  },
  {
   "cell_type": "code",
   "execution_count": 495,
   "id": "4e27e445",
   "metadata": {},
   "outputs": [],
   "source": [
    "reed = reed[['category', 'city', 'company_name', 'geo', 'job_board', 'job_title', 'job_type', 'year', 'quarter', 'month', 'day', \n",
    "             'salary', 'state']]"
   ]
  },
  {
   "cell_type": "markdown",
   "id": "bc2ad821",
   "metadata": {},
   "source": [
    "Some job categories are similar in both reed and seek so we will update these categories in reed to match with the values of seek "
   ]
  },
  {
   "cell_type": "code",
   "execution_count": 496,
   "id": "abf20997",
   "metadata": {},
   "outputs": [],
   "source": [
    "categories = {'retail jobs': 'Retail & Consumer Products', 'customer service jobs': 'Call Centre & Customer Service',\n",
    "             'law jobs': 'Legal', 'marketing jobs': 'Marketing & Communications', 'hr jobs': 'Human Resources & Recruitment',\n",
    "             'banking jobs': 'Banking & Financial Services', 'science jobs': 'Science & Technology',\n",
    "             'media digital creative jobs': 'Advertising, Arts & Media', 'general insurance jobs': 'Insurance & Superannuation',\n",
    "             'estate agent jobs': 'Real Estate & Property', 'energy jobs': 'Mining, Resources & Energy',\n",
    "             'health jobs': 'Healthcare & Medical', 'education jobs': 'Education & Training',\n",
    "             'it jobs': 'Information & Communication Technology', 'construction property jobs': 'Construction',\n",
    "             'sales jobs': 'Sales', 'retail jobs': 'Retail & Consumer Products'}\n",
    "\n",
    "reed['category'] = reed['category'].replace(to_replace= categories)"
   ]
  },
  {
   "cell_type": "markdown",
   "id": "16b83bda",
   "metadata": {},
   "source": [
    "we will update the job type values in the reed data to match with the values in seek data "
   ]
  },
  {
   "cell_type": "code",
   "execution_count": 497,
   "id": "cd704a56",
   "metadata": {},
   "outputs": [],
   "source": [
    "jobtype_update = {'Permanent, full-time': 'Full Time', 'Temporary, full-time': 'Contract/Temp',\n",
    "                 'Contract, full-time': 'Contract/Temp', 'Permanent, part-time': 'Contract/Temp',\n",
    "                 'Temporary, part-time': 'Contract/Temp', 'Temporary, full-time or part-time': 'Contract/Temp',\n",
    "                 'Contract, full-time or part-time': 'Contract/Temp', 'Contract, part-time': 'Contract/Temp'}\n",
    "reed['job_type'] = reed['job_type'].replace(to_replace= jobtype_update)"
   ]
  },
  {
   "cell_type": "markdown",
   "id": "6dda40b2",
   "metadata": {},
   "source": [
    "we will update the state values in the seek data to actual states in Australia as the current values doesn't tell much about the states. In order to do this, we will map each city to their respective state in Australia."
   ]
  },
  {
   "cell_type": "code",
   "execution_count": 498,
   "id": "47bb2844",
   "metadata": {},
   "outputs": [],
   "source": [
    "states_final = {'Sydney': 'New South Wales', 'Brisbane': 'Queensland', 'Melbourne': 'Victoria',\n",
    "               'Adelaide': 'South Australia', 'Northam & Wheatbelt': 'Western Australia', \n",
    "                'Port Hedland, Karratha & Pilbara': 'Western Australia', 'Gosford & Central Coast': 'New South Wales',\n",
    "               'Newcastle, Maitland & Hunter': 'New South Wales', 'Gold Coast': 'Queensland',\n",
    "               'Rockhampton & Capricorn Coast': 'Queensland', 'Wollongong, Illawarra & South Coast': 'New South Wales',\n",
    "               'Blue Mountains & Central West': 'New South Wales', 'Kalgoorlie, Goldfields & Esperance': 'Western Australia',\n",
    "               'Dubbo & Central NSW': 'New South Wales', 'Cairns & Far North': 'Queensland',\n",
    "               'Perth': 'Western Australia', 'Bunbury & South West': 'Western Australia',\n",
    "               'Hobart': 'Tasmania', 'Geelong & Great Ocean Road': 'Victoria', 'Sunshine Coast': 'Queensland',\n",
    "               'Tamworth & North West NSW': 'New South Wales', 'Mt Isa & Western QLD': 'Queensland',\n",
    "               'Goulburn & Southern Tablelands': 'New South Wales', 'Mornington Peninsula & Bass Coast': 'Victoria',\n",
    "               'Fleurieu Peninsula & Kangaroo Island': 'South Australia', 'Port Macquarie & Mid North Coast': 'New South Wales',\n",
    "               'Darwin': 'Northern Territory', 'Coffs Harbour & North Coast': 'New South Wales',\n",
    "               'Gladstone & Central QLD': 'Queensland', 'Mackay & Coalfields': 'Queensland', \n",
    "                'Geraldton, Gascoyne & Midwest': 'Western Australia', 'Ballarat & Central Highlands': 'Victoria',\n",
    "               'Wagga Wagga & Riverina': 'New South Wales', 'Townsville & Northern QLD': 'Queensland',\n",
    "               'Bendigo, Goldfields & Macedon Ranges': 'Victoria', 'Albany & Great Southern': 'Western Australia',\n",
    "               'Shepparton & Goulburn Valley': 'Victoria', 'Toowoomba & Darling Downs': 'Queensland',\n",
    "               'Bundaberg & Wide Bay Burnett': 'Queensland', 'Katherine & Northern Australia': 'Northern Territory',\n",
    "               'Albury Wodonga & Murray': 'New South Wales', 'Adelaide Hills & Barossa': 'South Australia',\n",
    "               'Lismore & Far North Coast': 'New South Wales', 'Traralgon & La Trobe Valley': 'Victoria',\n",
    "               'Whyalla & Eyre Peninsula': 'South Australia', 'Devonport & North West': 'Tasmania',\n",
    "               'Mildura & Murray': 'Victoria', 'Yorke Peninsula & Clare Valley': 'South Australia',\n",
    "               'Mandurah & Peel': 'Western Australia', 'Yarra Valley & High Country': 'Victoria',\n",
    "               'Alice Springs & Central Australia': 'Northern Territory', 'Richmond & Hawkesbury': 'New South Wales',\n",
    "               'Mt Gambier & Limestone Coast': 'South Australia', 'Launceston & North East': 'Tasmania',\n",
    "               'Bairnsdale & Gippsland': 'Victoria', 'Horsham & Grampians': 'Victoria',\n",
    "               'Tumut, Southern Highlands & Snowy': 'New South Wales', 'Hervey Bay & Fraser Coast': 'Queensland',\n",
    "               'Broome & Kimberley': 'Western Australia', 'Riverland & Murray Mallee': 'South Australia',\n",
    "               'Coober Pedy & Outback SA': 'South Australia', 'Far West & North Central NSW': 'New South Wales',\n",
    "               'Somerset & Lockyer': 'Queensland', 'Central & South East': 'Tasmania', 'ACT': ''}\n",
    "\n",
    "seek['state'] = seek['city'].replace (to_replace=states_final)"
   ]
  },
  {
   "cell_type": "markdown",
   "id": "ae477f01",
   "metadata": {},
   "source": [
    "Now we will merge both seek and reed dataframes along rows to get final dataframe"
   ]
  },
  {
   "cell_type": "code",
   "execution_count": 499,
   "id": "9a90ed31",
   "metadata": {},
   "outputs": [],
   "source": [
    "final_df = pd.concat([seek, reed])"
   ]
  },
  {
   "cell_type": "code",
   "execution_count": 500,
   "id": "6badc55e",
   "metadata": {},
   "outputs": [
    {
     "data": {
      "text/html": [
       "<div>\n",
       "<style scoped>\n",
       "    .dataframe tbody tr th:only-of-type {\n",
       "        vertical-align: middle;\n",
       "    }\n",
       "\n",
       "    .dataframe tbody tr th {\n",
       "        vertical-align: top;\n",
       "    }\n",
       "\n",
       "    .dataframe thead th {\n",
       "        text-align: right;\n",
       "    }\n",
       "</style>\n",
       "<table border=\"1\" class=\"dataframe\">\n",
       "  <thead>\n",
       "    <tr style=\"text-align: right;\">\n",
       "      <th></th>\n",
       "      <th>category</th>\n",
       "      <th>city</th>\n",
       "      <th>company_name</th>\n",
       "      <th>geo</th>\n",
       "      <th>job_board</th>\n",
       "      <th>job_title</th>\n",
       "      <th>job_type</th>\n",
       "      <th>year</th>\n",
       "      <th>quarter</th>\n",
       "      <th>month</th>\n",
       "      <th>day</th>\n",
       "      <th>salary</th>\n",
       "      <th>state</th>\n",
       "    </tr>\n",
       "  </thead>\n",
       "  <tbody>\n",
       "    <tr>\n",
       "      <th>49995</th>\n",
       "      <td>Science &amp; Technology</td>\n",
       "      <td>Oxfordshire</td>\n",
       "      <td>Hays Specialist Recruitment Limited</td>\n",
       "      <td>uk</td>\n",
       "      <td>reed</td>\n",
       "      <td>Scientist In vitro Cell-Free &amp; Cell Based Assays</td>\n",
       "      <td>Contract/Temp</td>\n",
       "      <td>2018</td>\n",
       "      <td>Q1</td>\n",
       "      <td>3</td>\n",
       "      <td>7</td>\n",
       "      <td>1</td>\n",
       "      <td>South East England</td>\n",
       "    </tr>\n",
       "    <tr>\n",
       "      <th>49996</th>\n",
       "      <td>graduate training internships jobs</td>\n",
       "      <td>Northampton</td>\n",
       "      <td>The Graduate</td>\n",
       "      <td>uk</td>\n",
       "      <td>reed</td>\n",
       "      <td>Graduate Training Scheme - Recruitment</td>\n",
       "      <td>Full Time</td>\n",
       "      <td>2018</td>\n",
       "      <td>Q1</td>\n",
       "      <td>3</td>\n",
       "      <td>9</td>\n",
       "      <td>1</td>\n",
       "      <td>Northamptonshire</td>\n",
       "    </tr>\n",
       "    <tr>\n",
       "      <th>49997</th>\n",
       "      <td>strategy consultancy jobs</td>\n",
       "      <td>City of London</td>\n",
       "      <td>Capgemini Consulting</td>\n",
       "      <td>uk</td>\n",
       "      <td>reed</td>\n",
       "      <td>Management Consultant - Retail Buying, Merchan...</td>\n",
       "      <td>Full Time</td>\n",
       "      <td>2018</td>\n",
       "      <td>Q1</td>\n",
       "      <td>2</td>\n",
       "      <td>17</td>\n",
       "      <td>0</td>\n",
       "      <td>London</td>\n",
       "    </tr>\n",
       "    <tr>\n",
       "      <th>49998</th>\n",
       "      <td>purchasing jobs</td>\n",
       "      <td>Egham</td>\n",
       "      <td>Concept Human Solutions</td>\n",
       "      <td>uk</td>\n",
       "      <td>reed</td>\n",
       "      <td>AV Procurement Assistant</td>\n",
       "      <td>Full Time</td>\n",
       "      <td>2018</td>\n",
       "      <td>Q1</td>\n",
       "      <td>3</td>\n",
       "      <td>6</td>\n",
       "      <td>1</td>\n",
       "      <td>Surrey</td>\n",
       "    </tr>\n",
       "    <tr>\n",
       "      <th>49999</th>\n",
       "      <td>fmcg jobs</td>\n",
       "      <td>London</td>\n",
       "      <td>D R Newitt</td>\n",
       "      <td>uk</td>\n",
       "      <td>reed</td>\n",
       "      <td>Supply Planner - French Speaking</td>\n",
       "      <td>Full Time</td>\n",
       "      <td>2018</td>\n",
       "      <td>Q1</td>\n",
       "      <td>2</td>\n",
       "      <td>27</td>\n",
       "      <td>1</td>\n",
       "      <td>South East England</td>\n",
       "    </tr>\n",
       "  </tbody>\n",
       "</table>\n",
       "</div>"
      ],
      "text/plain": [
       "                                 category            city  \\\n",
       "49995                Science & Technology     Oxfordshire   \n",
       "49996  graduate training internships jobs     Northampton   \n",
       "49997           strategy consultancy jobs  City of London   \n",
       "49998                     purchasing jobs           Egham   \n",
       "49999                           fmcg jobs          London   \n",
       "\n",
       "                               company_name geo job_board  \\\n",
       "49995  Hays Specialist Recruitment Limited   uk      reed   \n",
       "49996                         The Graduate   uk      reed   \n",
       "49997                 Capgemini Consulting   uk      reed   \n",
       "49998              Concept Human Solutions   uk      reed   \n",
       "49999                           D R Newitt   uk      reed   \n",
       "\n",
       "                                               job_title       job_type  year  \\\n",
       "49995   Scientist In vitro Cell-Free & Cell Based Assays  Contract/Temp  2018   \n",
       "49996             Graduate Training Scheme - Recruitment      Full Time  2018   \n",
       "49997  Management Consultant - Retail Buying, Merchan...      Full Time  2018   \n",
       "49998                           AV Procurement Assistant      Full Time  2018   \n",
       "49999                  Supply Planner - French Speaking       Full Time  2018   \n",
       "\n",
       "      quarter month day salary               state  \n",
       "49995      Q1     3   7      1  South East England  \n",
       "49996      Q1     3   9      1    Northamptonshire  \n",
       "49997      Q1     2  17      0              London  \n",
       "49998      Q1     3   6      1              Surrey  \n",
       "49999      Q1     2  27      1  South East England  "
      ]
     },
     "execution_count": 500,
     "metadata": {},
     "output_type": "execute_result"
    }
   ],
   "source": [
    "final_df.tail()"
   ]
  },
  {
   "cell_type": "code",
   "execution_count": 501,
   "id": "343805e8",
   "metadata": {},
   "outputs": [
    {
     "data": {
      "text/plain": [
       "(80000, 13)"
      ]
     },
     "execution_count": 501,
     "metadata": {},
     "output_type": "execute_result"
    }
   ],
   "source": [
    "final_df.shape"
   ]
  },
  {
   "cell_type": "markdown",
   "id": "28124af4",
   "metadata": {},
   "source": [
    "we will reset index because after merging 2 dataframes as index numbers have become inconsistent"
   ]
  },
  {
   "cell_type": "code",
   "execution_count": 502,
   "id": "54ce35a1",
   "metadata": {},
   "outputs": [],
   "source": [
    "final_df = final_df.reset_index(drop=True)"
   ]
  },
  {
   "cell_type": "markdown",
   "id": "ac83de5d",
   "metadata": {},
   "source": [
    "we will map month numbers to Month names"
   ]
  },
  {
   "cell_type": "code",
   "execution_count": 504,
   "id": "fffdccf0",
   "metadata": {},
   "outputs": [],
   "source": [
    "month_name = {'1': 'January', '2': 'February', '3': 'March', '04': 'April', '8': 'August',\n",
    "             '9': 'September', '11': 'November', '12': 'December'}\n",
    "\n",
    "final_df['month'] = final_df['month'].replace(to_replace = month_name)"
   ]
  },
  {
   "cell_type": "markdown",
   "id": "ee2a0c6b",
   "metadata": {},
   "source": [
    "Dropping the duplicates from the dataframe"
   ]
  },
  {
   "cell_type": "code",
   "execution_count": 505,
   "id": "3a7476c0",
   "metadata": {},
   "outputs": [],
   "source": [
    "final_df = final_df.drop_duplicates()"
   ]
  },
  {
   "cell_type": "code",
   "execution_count": 506,
   "id": "522cab53",
   "metadata": {},
   "outputs": [
    {
     "data": {
      "text/plain": [
       "(73445, 13)"
      ]
     },
     "execution_count": 506,
     "metadata": {},
     "output_type": "execute_result"
    }
   ],
   "source": [
    "final_df.shape"
   ]
  },
  {
   "cell_type": "markdown",
   "id": "7c29ccd0",
   "metadata": {},
   "source": [
    "Function for adding ID to Dimension tables"
   ]
  },
  {
   "cell_type": "code",
   "execution_count": 507,
   "id": "651b7610",
   "metadata": {},
   "outputs": [],
   "source": [
    "def dim_table(df, column):\n",
    "    df = df.drop_duplicates()\n",
    "    df = df.reset_index(drop=True)\n",
    "    df[column] = df.index + 1\n",
    "    \n",
    "    return df"
   ]
  },
  {
   "cell_type": "markdown",
   "id": "ee97711a",
   "metadata": {},
   "source": [
    "We will create ID for each dimension tables and rearrange columns"
   ]
  },
  {
   "cell_type": "code",
   "execution_count": 508,
   "id": "078585e6",
   "metadata": {},
   "outputs": [],
   "source": [
    "Location_df = final_df[['geo', 'state', 'city']]\n",
    "Location_df = dim_table(Location_df, 'LocationID')\n",
    "Location_df = Location_df[['LocationID', 'geo', 'state', 'city']]"
   ]
  },
  {
   "cell_type": "code",
   "execution_count": 509,
   "id": "64148821",
   "metadata": {},
   "outputs": [],
   "source": [
    "Date_df = final_df[['year', 'quarter', 'month', 'day']]\n",
    "Date_df = dim_table(Date_df, 'DateID')\n",
    "Date_df = Date_df[['DateID', 'year', 'quarter', 'month', 'day']]"
   ]
  },
  {
   "cell_type": "code",
   "execution_count": 510,
   "id": "daa1630a",
   "metadata": {},
   "outputs": [],
   "source": [
    "JobInfo_df = final_df[['company_name', 'category', 'job_title', 'job_type']]\n",
    "JobInfo_df = dim_table(JobInfo_df, 'JobInfoID')\n",
    "JobInfo_df = JobInfo_df[['JobInfoID', 'company_name', 'category', 'job_title', 'job_type']]"
   ]
  },
  {
   "cell_type": "code",
   "execution_count": 511,
   "id": "bbc91411",
   "metadata": {},
   "outputs": [],
   "source": [
    "JobBoard_df = final_df[['job_board']]\n",
    "JobBoard_df = dim_table(JobBoard_df, 'JobBoardID')\n",
    "JobBoard_df = JobBoard_df[['JobBoardID', 'job_board']]"
   ]
  },
  {
   "cell_type": "markdown",
   "id": "fce3c274",
   "metadata": {},
   "source": [
    "We will use merge function in pandas to map Location ID to each combination of geo, state and city"
   ]
  },
  {
   "cell_type": "code",
   "execution_count": 512,
   "id": "cb543fe7",
   "metadata": {},
   "outputs": [
    {
     "data": {
      "text/html": [
       "<div>\n",
       "<style scoped>\n",
       "    .dataframe tbody tr th:only-of-type {\n",
       "        vertical-align: middle;\n",
       "    }\n",
       "\n",
       "    .dataframe tbody tr th {\n",
       "        vertical-align: top;\n",
       "    }\n",
       "\n",
       "    .dataframe thead th {\n",
       "        text-align: right;\n",
       "    }\n",
       "</style>\n",
       "<table border=\"1\" class=\"dataframe\">\n",
       "  <thead>\n",
       "    <tr style=\"text-align: right;\">\n",
       "      <th></th>\n",
       "      <th>geo</th>\n",
       "      <th>state</th>\n",
       "      <th>city</th>\n",
       "      <th>LocationID</th>\n",
       "    </tr>\n",
       "  </thead>\n",
       "  <tbody>\n",
       "    <tr>\n",
       "      <th>0</th>\n",
       "      <td>AU</td>\n",
       "      <td>New South Wales</td>\n",
       "      <td>Sydney</td>\n",
       "      <td>1</td>\n",
       "    </tr>\n",
       "    <tr>\n",
       "      <th>1</th>\n",
       "      <td>AU</td>\n",
       "      <td>Queensland</td>\n",
       "      <td>Brisbane</td>\n",
       "      <td>2</td>\n",
       "    </tr>\n",
       "    <tr>\n",
       "      <th>2</th>\n",
       "      <td>AU</td>\n",
       "      <td>New South Wales</td>\n",
       "      <td>Sydney</td>\n",
       "      <td>1</td>\n",
       "    </tr>\n",
       "    <tr>\n",
       "      <th>3</th>\n",
       "      <td>AU</td>\n",
       "      <td>Victoria</td>\n",
       "      <td>Melbourne</td>\n",
       "      <td>3</td>\n",
       "    </tr>\n",
       "    <tr>\n",
       "      <th>4</th>\n",
       "      <td>AU</td>\n",
       "      <td>South Australia</td>\n",
       "      <td>Adelaide</td>\n",
       "      <td>4</td>\n",
       "    </tr>\n",
       "  </tbody>\n",
       "</table>\n",
       "</div>"
      ],
      "text/plain": [
       "  geo            state       city  LocationID\n",
       "0  AU  New South Wales     Sydney           1\n",
       "1  AU       Queensland   Brisbane           2\n",
       "2  AU  New South Wales     Sydney           1\n",
       "3  AU         Victoria  Melbourne           3\n",
       "4  AU  South Australia   Adelaide           4"
      ]
     },
     "execution_count": 512,
     "metadata": {},
     "output_type": "execute_result"
    }
   ],
   "source": [
    "Location = final_df[['geo', 'state', 'city']]\n",
    "Location_final = pd.merge(Location, Location_df, on = ['geo', 'state', 'city'], how = 'left')\n",
    "Location_final.head()"
   ]
  },
  {
   "cell_type": "markdown",
   "id": "01575f29",
   "metadata": {},
   "source": [
    "We will use merge function in pandas to map JobBoard ID to each row"
   ]
  },
  {
   "cell_type": "code",
   "execution_count": 514,
   "id": "8375d1e4",
   "metadata": {},
   "outputs": [
    {
     "data": {
      "text/html": [
       "<div>\n",
       "<style scoped>\n",
       "    .dataframe tbody tr th:only-of-type {\n",
       "        vertical-align: middle;\n",
       "    }\n",
       "\n",
       "    .dataframe tbody tr th {\n",
       "        vertical-align: top;\n",
       "    }\n",
       "\n",
       "    .dataframe thead th {\n",
       "        text-align: right;\n",
       "    }\n",
       "</style>\n",
       "<table border=\"1\" class=\"dataframe\">\n",
       "  <thead>\n",
       "    <tr style=\"text-align: right;\">\n",
       "      <th></th>\n",
       "      <th>job_board</th>\n",
       "      <th>JobBoardID</th>\n",
       "    </tr>\n",
       "  </thead>\n",
       "  <tbody>\n",
       "    <tr>\n",
       "      <th>0</th>\n",
       "      <td>seek</td>\n",
       "      <td>1</td>\n",
       "    </tr>\n",
       "    <tr>\n",
       "      <th>1</th>\n",
       "      <td>seek</td>\n",
       "      <td>1</td>\n",
       "    </tr>\n",
       "    <tr>\n",
       "      <th>2</th>\n",
       "      <td>seek</td>\n",
       "      <td>1</td>\n",
       "    </tr>\n",
       "    <tr>\n",
       "      <th>3</th>\n",
       "      <td>seek</td>\n",
       "      <td>1</td>\n",
       "    </tr>\n",
       "    <tr>\n",
       "      <th>4</th>\n",
       "      <td>seek</td>\n",
       "      <td>1</td>\n",
       "    </tr>\n",
       "  </tbody>\n",
       "</table>\n",
       "</div>"
      ],
      "text/plain": [
       "  job_board  JobBoardID\n",
       "0      seek           1\n",
       "1      seek           1\n",
       "2      seek           1\n",
       "3      seek           1\n",
       "4      seek           1"
      ]
     },
     "execution_count": 514,
     "metadata": {},
     "output_type": "execute_result"
    }
   ],
   "source": [
    "JobBoard = final_df[['job_board']]\n",
    "JobBoard_final = pd.merge(JobBoard, JobBoard_df, on = ['job_board'], how = 'left')\n",
    "JobBoard_final.head()"
   ]
  },
  {
   "cell_type": "markdown",
   "id": "e134369c",
   "metadata": {},
   "source": [
    "we will use merge function in pandas to map JobInfo ID to each combination of company_name, category, job_title and job_type"
   ]
  },
  {
   "cell_type": "code",
   "execution_count": 515,
   "id": "c4e47130",
   "metadata": {},
   "outputs": [
    {
     "data": {
      "text/html": [
       "<div>\n",
       "<style scoped>\n",
       "    .dataframe tbody tr th:only-of-type {\n",
       "        vertical-align: middle;\n",
       "    }\n",
       "\n",
       "    .dataframe tbody tr th {\n",
       "        vertical-align: top;\n",
       "    }\n",
       "\n",
       "    .dataframe thead th {\n",
       "        text-align: right;\n",
       "    }\n",
       "</style>\n",
       "<table border=\"1\" class=\"dataframe\">\n",
       "  <thead>\n",
       "    <tr style=\"text-align: right;\">\n",
       "      <th></th>\n",
       "      <th>company_name</th>\n",
       "      <th>category</th>\n",
       "      <th>job_title</th>\n",
       "      <th>job_type</th>\n",
       "      <th>JobInfoID</th>\n",
       "    </tr>\n",
       "  </thead>\n",
       "  <tbody>\n",
       "    <tr>\n",
       "      <th>0</th>\n",
       "      <td>Frontline Executive Retail Sydney</td>\n",
       "      <td>Retail &amp; Consumer Products</td>\n",
       "      <td>Store Manager - Fresh Produce</td>\n",
       "      <td>Full Time</td>\n",
       "      <td>1</td>\n",
       "    </tr>\n",
       "    <tr>\n",
       "      <th>1</th>\n",
       "      <td>Powerlink</td>\n",
       "      <td>Government &amp; Defence</td>\n",
       "      <td>Client Solution Analyst</td>\n",
       "      <td>Full Time</td>\n",
       "      <td>2</td>\n",
       "    </tr>\n",
       "    <tr>\n",
       "      <th>2</th>\n",
       "      <td>Richard Jay Laundry</td>\n",
       "      <td>Trades &amp; Services</td>\n",
       "      <td>Service Technician / Installer - NSW</td>\n",
       "      <td>Full Time</td>\n",
       "      <td>3</td>\n",
       "    </tr>\n",
       "    <tr>\n",
       "      <th>3</th>\n",
       "      <td>Adaptalift Hyster</td>\n",
       "      <td>Trades &amp; Services</td>\n",
       "      <td>Workshop Technician I Material Handling Equipment</td>\n",
       "      <td>Full Time</td>\n",
       "      <td>4</td>\n",
       "    </tr>\n",
       "    <tr>\n",
       "      <th>4</th>\n",
       "      <td>Bakers Delight G&amp;M</td>\n",
       "      <td>Trades &amp; Services</td>\n",
       "      <td>APPRENTICESHIP JUNIOR BAKER</td>\n",
       "      <td>Full Time</td>\n",
       "      <td>5</td>\n",
       "    </tr>\n",
       "  </tbody>\n",
       "</table>\n",
       "</div>"
      ],
      "text/plain": [
       "                        company_name                    category  \\\n",
       "0  Frontline Executive Retail Sydney  Retail & Consumer Products   \n",
       "1                          Powerlink        Government & Defence   \n",
       "2                Richard Jay Laundry           Trades & Services   \n",
       "3                  Adaptalift Hyster           Trades & Services   \n",
       "4                 Bakers Delight G&M           Trades & Services   \n",
       "\n",
       "                                           job_title   job_type  JobInfoID  \n",
       "0                      Store Manager - Fresh Produce  Full Time          1  \n",
       "1                            Client Solution Analyst  Full Time          2  \n",
       "2               Service Technician / Installer - NSW  Full Time          3  \n",
       "3  Workshop Technician I Material Handling Equipment  Full Time          4  \n",
       "4                        APPRENTICESHIP JUNIOR BAKER  Full Time          5  "
      ]
     },
     "execution_count": 515,
     "metadata": {},
     "output_type": "execute_result"
    }
   ],
   "source": [
    "JobInfo = final_df[['company_name', 'category', 'job_title', 'job_type']]\n",
    "JobInfo_final = pd.merge(JobInfo, JobInfo_df, on = ['company_name', 'category', 'job_title', 'job_type'], how = 'left')\n",
    "JobInfo_final.head()"
   ]
  },
  {
   "cell_type": "markdown",
   "id": "5dd9f16e",
   "metadata": {},
   "source": [
    "we will use merge function in pandas to map Date ID to each combination of year, quarter, month and day"
   ]
  },
  {
   "cell_type": "code",
   "execution_count": 516,
   "id": "66b4a353",
   "metadata": {},
   "outputs": [
    {
     "data": {
      "text/html": [
       "<div>\n",
       "<style scoped>\n",
       "    .dataframe tbody tr th:only-of-type {\n",
       "        vertical-align: middle;\n",
       "    }\n",
       "\n",
       "    .dataframe tbody tr th {\n",
       "        vertical-align: top;\n",
       "    }\n",
       "\n",
       "    .dataframe thead th {\n",
       "        text-align: right;\n",
       "    }\n",
       "</style>\n",
       "<table border=\"1\" class=\"dataframe\">\n",
       "  <thead>\n",
       "    <tr style=\"text-align: right;\">\n",
       "      <th></th>\n",
       "      <th>year</th>\n",
       "      <th>quarter</th>\n",
       "      <th>month</th>\n",
       "      <th>day</th>\n",
       "      <th>DateID</th>\n",
       "    </tr>\n",
       "  </thead>\n",
       "  <tbody>\n",
       "    <tr>\n",
       "      <th>0</th>\n",
       "      <td>2018</td>\n",
       "      <td>Q2</td>\n",
       "      <td>April</td>\n",
       "      <td>15</td>\n",
       "      <td>1</td>\n",
       "    </tr>\n",
       "    <tr>\n",
       "      <th>1</th>\n",
       "      <td>2018</td>\n",
       "      <td>Q2</td>\n",
       "      <td>April</td>\n",
       "      <td>15</td>\n",
       "      <td>1</td>\n",
       "    </tr>\n",
       "    <tr>\n",
       "      <th>2</th>\n",
       "      <td>2018</td>\n",
       "      <td>Q2</td>\n",
       "      <td>April</td>\n",
       "      <td>15</td>\n",
       "      <td>1</td>\n",
       "    </tr>\n",
       "    <tr>\n",
       "      <th>3</th>\n",
       "      <td>2018</td>\n",
       "      <td>Q2</td>\n",
       "      <td>April</td>\n",
       "      <td>16</td>\n",
       "      <td>2</td>\n",
       "    </tr>\n",
       "    <tr>\n",
       "      <th>4</th>\n",
       "      <td>2018</td>\n",
       "      <td>Q2</td>\n",
       "      <td>April</td>\n",
       "      <td>16</td>\n",
       "      <td>2</td>\n",
       "    </tr>\n",
       "  </tbody>\n",
       "</table>\n",
       "</div>"
      ],
      "text/plain": [
       "   year quarter  month day  DateID\n",
       "0  2018      Q2  April  15       1\n",
       "1  2018      Q2  April  15       1\n",
       "2  2018      Q2  April  15       1\n",
       "3  2018      Q2  April  16       2\n",
       "4  2018      Q2  April  16       2"
      ]
     },
     "execution_count": 516,
     "metadata": {},
     "output_type": "execute_result"
    }
   ],
   "source": [
    "Date = final_df[['year', 'quarter', 'month', 'day']]\n",
    "Date_final = pd.merge(Date, Date_df, on =['year', 'quarter', 'month', 'day'], how = 'left')\n",
    "Date_final.head()"
   ]
  },
  {
   "cell_type": "markdown",
   "id": "4f9613ec",
   "metadata": {},
   "source": [
    "Resetting index to make index consistent "
   ]
  },
  {
   "cell_type": "code",
   "execution_count": 517,
   "id": "b964470c",
   "metadata": {},
   "outputs": [],
   "source": [
    "final_df =final_df.reset_index(drop=True)"
   ]
  },
  {
   "cell_type": "code",
   "execution_count": 518,
   "id": "391fcef1",
   "metadata": {},
   "outputs": [],
   "source": [
    "final_df['DateID'] = Date_final['DateID']\n",
    "final_df['LocationID'] = Location_final['LocationID']\n",
    "final_df['JobBoardID'] = JobBoard_final['JobBoardID']\n",
    "final_df['JobInfoID'] = JobInfo_final['JobInfoID']"
   ]
  },
  {
   "cell_type": "code",
   "execution_count": 519,
   "id": "ca380f58",
   "metadata": {},
   "outputs": [
    {
     "data": {
      "text/html": [
       "<div>\n",
       "<style scoped>\n",
       "    .dataframe tbody tr th:only-of-type {\n",
       "        vertical-align: middle;\n",
       "    }\n",
       "\n",
       "    .dataframe tbody tr th {\n",
       "        vertical-align: top;\n",
       "    }\n",
       "\n",
       "    .dataframe thead th {\n",
       "        text-align: right;\n",
       "    }\n",
       "</style>\n",
       "<table border=\"1\" class=\"dataframe\">\n",
       "  <thead>\n",
       "    <tr style=\"text-align: right;\">\n",
       "      <th></th>\n",
       "      <th>category</th>\n",
       "      <th>city</th>\n",
       "      <th>company_name</th>\n",
       "      <th>geo</th>\n",
       "      <th>job_board</th>\n",
       "      <th>job_title</th>\n",
       "      <th>job_type</th>\n",
       "      <th>year</th>\n",
       "      <th>quarter</th>\n",
       "      <th>month</th>\n",
       "      <th>day</th>\n",
       "      <th>salary</th>\n",
       "      <th>state</th>\n",
       "      <th>DateID</th>\n",
       "      <th>LocationID</th>\n",
       "      <th>JobBoardID</th>\n",
       "      <th>JobInfoID</th>\n",
       "    </tr>\n",
       "  </thead>\n",
       "  <tbody>\n",
       "    <tr>\n",
       "      <th>0</th>\n",
       "      <td>Retail &amp; Consumer Products</td>\n",
       "      <td>Sydney</td>\n",
       "      <td>Frontline Executive Retail Sydney</td>\n",
       "      <td>AU</td>\n",
       "      <td>seek</td>\n",
       "      <td>Store Manager - Fresh Produce</td>\n",
       "      <td>Full Time</td>\n",
       "      <td>2018</td>\n",
       "      <td>Q2</td>\n",
       "      <td>April</td>\n",
       "      <td>15</td>\n",
       "      <td>1</td>\n",
       "      <td>New South Wales</td>\n",
       "      <td>1</td>\n",
       "      <td>1</td>\n",
       "      <td>1</td>\n",
       "      <td>1</td>\n",
       "    </tr>\n",
       "    <tr>\n",
       "      <th>1</th>\n",
       "      <td>Government &amp; Defence</td>\n",
       "      <td>Brisbane</td>\n",
       "      <td>Powerlink</td>\n",
       "      <td>AU</td>\n",
       "      <td>seek</td>\n",
       "      <td>Client Solution Analyst</td>\n",
       "      <td>Full Time</td>\n",
       "      <td>2018</td>\n",
       "      <td>Q2</td>\n",
       "      <td>April</td>\n",
       "      <td>15</td>\n",
       "      <td>0</td>\n",
       "      <td>Queensland</td>\n",
       "      <td>1</td>\n",
       "      <td>2</td>\n",
       "      <td>1</td>\n",
       "      <td>2</td>\n",
       "    </tr>\n",
       "    <tr>\n",
       "      <th>2</th>\n",
       "      <td>Trades &amp; Services</td>\n",
       "      <td>Sydney</td>\n",
       "      <td>Richard Jay Laundry</td>\n",
       "      <td>AU</td>\n",
       "      <td>seek</td>\n",
       "      <td>Service Technician / Installer - NSW</td>\n",
       "      <td>Full Time</td>\n",
       "      <td>2018</td>\n",
       "      <td>Q2</td>\n",
       "      <td>April</td>\n",
       "      <td>15</td>\n",
       "      <td>0</td>\n",
       "      <td>New South Wales</td>\n",
       "      <td>1</td>\n",
       "      <td>1</td>\n",
       "      <td>1</td>\n",
       "      <td>3</td>\n",
       "    </tr>\n",
       "    <tr>\n",
       "      <th>3</th>\n",
       "      <td>Trades &amp; Services</td>\n",
       "      <td>Melbourne</td>\n",
       "      <td>Adaptalift Hyster</td>\n",
       "      <td>AU</td>\n",
       "      <td>seek</td>\n",
       "      <td>Workshop Technician I Material Handling Equipment</td>\n",
       "      <td>Full Time</td>\n",
       "      <td>2018</td>\n",
       "      <td>Q2</td>\n",
       "      <td>April</td>\n",
       "      <td>16</td>\n",
       "      <td>0</td>\n",
       "      <td>Victoria</td>\n",
       "      <td>2</td>\n",
       "      <td>3</td>\n",
       "      <td>1</td>\n",
       "      <td>4</td>\n",
       "    </tr>\n",
       "    <tr>\n",
       "      <th>4</th>\n",
       "      <td>Trades &amp; Services</td>\n",
       "      <td>Adelaide</td>\n",
       "      <td>Bakers Delight G&amp;M</td>\n",
       "      <td>AU</td>\n",
       "      <td>seek</td>\n",
       "      <td>APPRENTICESHIP JUNIOR BAKER</td>\n",
       "      <td>Full Time</td>\n",
       "      <td>2018</td>\n",
       "      <td>Q2</td>\n",
       "      <td>April</td>\n",
       "      <td>16</td>\n",
       "      <td>0</td>\n",
       "      <td>South Australia</td>\n",
       "      <td>2</td>\n",
       "      <td>4</td>\n",
       "      <td>1</td>\n",
       "      <td>5</td>\n",
       "    </tr>\n",
       "  </tbody>\n",
       "</table>\n",
       "</div>"
      ],
      "text/plain": [
       "                     category       city                       company_name  \\\n",
       "0  Retail & Consumer Products     Sydney  Frontline Executive Retail Sydney   \n",
       "1        Government & Defence   Brisbane                          Powerlink   \n",
       "2           Trades & Services     Sydney                Richard Jay Laundry   \n",
       "3           Trades & Services  Melbourne                  Adaptalift Hyster   \n",
       "4           Trades & Services   Adelaide                 Bakers Delight G&M   \n",
       "\n",
       "  geo job_board                                          job_title   job_type  \\\n",
       "0  AU      seek                      Store Manager - Fresh Produce  Full Time   \n",
       "1  AU      seek                            Client Solution Analyst  Full Time   \n",
       "2  AU      seek               Service Technician / Installer - NSW  Full Time   \n",
       "3  AU      seek  Workshop Technician I Material Handling Equipment  Full Time   \n",
       "4  AU      seek                        APPRENTICESHIP JUNIOR BAKER  Full Time   \n",
       "\n",
       "   year quarter  month day salary            state  DateID  LocationID  \\\n",
       "0  2018      Q2  April  15      1  New South Wales       1           1   \n",
       "1  2018      Q2  April  15      0       Queensland       1           2   \n",
       "2  2018      Q2  April  15      0  New South Wales       1           1   \n",
       "3  2018      Q2  April  16      0         Victoria       2           3   \n",
       "4  2018      Q2  April  16      0  South Australia       2           4   \n",
       "\n",
       "   JobBoardID  JobInfoID  \n",
       "0           1          1  \n",
       "1           1          2  \n",
       "2           1          3  \n",
       "3           1          4  \n",
       "4           1          5  "
      ]
     },
     "execution_count": 519,
     "metadata": {},
     "output_type": "execute_result"
    }
   ],
   "source": [
    "final_df.head()"
   ]
  },
  {
   "cell_type": "markdown",
   "id": "8801bde8",
   "metadata": {},
   "source": [
    "Now creating fact table dataframe by adding foreign keys to Dimension tables and taking salary"
   ]
  },
  {
   "cell_type": "code",
   "execution_count": 520,
   "id": "c36b8f88",
   "metadata": {},
   "outputs": [],
   "source": [
    "factdf = pd.DataFrame()"
   ]
  },
  {
   "cell_type": "code",
   "execution_count": 521,
   "id": "23382e65",
   "metadata": {},
   "outputs": [],
   "source": [
    "factdf['LocationID'] = Location_final['LocationID']\n",
    "factdf['DateID'] = Date_final['DateID']\n",
    "factdf['JobBoardID'] = JobBoard_final['JobBoardID']\n",
    "factdf['JobInfoID'] = JobInfo_final['JobInfoID']\n",
    "factdf['salary_offered'] = final_df['salary']"
   ]
  },
  {
   "cell_type": "markdown",
   "id": "1785bbcc",
   "metadata": {},
   "source": [
    "Resetting index to start from 1"
   ]
  },
  {
   "cell_type": "code",
   "execution_count": 522,
   "id": "a8c590a0",
   "metadata": {},
   "outputs": [],
   "source": [
    "factdf.index = factdf.index + 1"
   ]
  },
  {
   "cell_type": "code",
   "execution_count": 523,
   "id": "293a814a",
   "metadata": {},
   "outputs": [
    {
     "data": {
      "text/html": [
       "<div>\n",
       "<style scoped>\n",
       "    .dataframe tbody tr th:only-of-type {\n",
       "        vertical-align: middle;\n",
       "    }\n",
       "\n",
       "    .dataframe tbody tr th {\n",
       "        vertical-align: top;\n",
       "    }\n",
       "\n",
       "    .dataframe thead th {\n",
       "        text-align: right;\n",
       "    }\n",
       "</style>\n",
       "<table border=\"1\" class=\"dataframe\">\n",
       "  <thead>\n",
       "    <tr style=\"text-align: right;\">\n",
       "      <th></th>\n",
       "      <th>LocationID</th>\n",
       "      <th>DateID</th>\n",
       "      <th>JobBoardID</th>\n",
       "      <th>JobInfoID</th>\n",
       "      <th>salary_offered</th>\n",
       "    </tr>\n",
       "  </thead>\n",
       "  <tbody>\n",
       "    <tr>\n",
       "      <th>1</th>\n",
       "      <td>1</td>\n",
       "      <td>1</td>\n",
       "      <td>1</td>\n",
       "      <td>1</td>\n",
       "      <td>1</td>\n",
       "    </tr>\n",
       "    <tr>\n",
       "      <th>2</th>\n",
       "      <td>2</td>\n",
       "      <td>1</td>\n",
       "      <td>1</td>\n",
       "      <td>2</td>\n",
       "      <td>0</td>\n",
       "    </tr>\n",
       "    <tr>\n",
       "      <th>3</th>\n",
       "      <td>1</td>\n",
       "      <td>1</td>\n",
       "      <td>1</td>\n",
       "      <td>3</td>\n",
       "      <td>0</td>\n",
       "    </tr>\n",
       "    <tr>\n",
       "      <th>4</th>\n",
       "      <td>3</td>\n",
       "      <td>2</td>\n",
       "      <td>1</td>\n",
       "      <td>4</td>\n",
       "      <td>0</td>\n",
       "    </tr>\n",
       "    <tr>\n",
       "      <th>5</th>\n",
       "      <td>4</td>\n",
       "      <td>2</td>\n",
       "      <td>1</td>\n",
       "      <td>5</td>\n",
       "      <td>0</td>\n",
       "    </tr>\n",
       "  </tbody>\n",
       "</table>\n",
       "</div>"
      ],
      "text/plain": [
       "   LocationID  DateID  JobBoardID  JobInfoID salary_offered\n",
       "1           1       1           1          1              1\n",
       "2           2       1           1          2              0\n",
       "3           1       1           1          3              0\n",
       "4           3       2           1          4              0\n",
       "5           4       2           1          5              0"
      ]
     },
     "execution_count": 523,
     "metadata": {},
     "output_type": "execute_result"
    }
   ],
   "source": [
    "factdf.head()"
   ]
  },
  {
   "cell_type": "markdown",
   "id": "1b85898b",
   "metadata": {},
   "source": [
    "Creating csv files for Dimension tables and Fact table from the dataframes"
   ]
  },
  {
   "cell_type": "code",
   "execution_count": 524,
   "id": "32cbe9cd",
   "metadata": {},
   "outputs": [],
   "source": [
    "factdf.to_csv('FactJobSalaries.csv', header=False, index= True)"
   ]
  },
  {
   "cell_type": "code",
   "execution_count": 525,
   "id": "c018dc00",
   "metadata": {},
   "outputs": [],
   "source": [
    "Location_df.to_csv('DimLocation.tsv', header=False, index=False, sep = '\\t')\n",
    "JobInfo_df.to_csv('DimJobInfo.tsv', header=False, index=False, sep = '\\t')"
   ]
  },
  {
   "cell_type": "code",
   "execution_count": 526,
   "id": "f47825f4",
   "metadata": {},
   "outputs": [],
   "source": [
    "JobBoard_df.to_csv('DimJobBoard.csv', header=False, index=False)\n",
    "Date_df.to_csv('DimDate.csv', header=False, index= False)"
   ]
  },
  {
   "cell_type": "code",
   "execution_count": null,
   "id": "e17e8775",
   "metadata": {},
   "outputs": [],
   "source": []
  },
  {
   "cell_type": "code",
   "execution_count": null,
   "id": "12bbaebe",
   "metadata": {},
   "outputs": [],
   "source": []
  },
  {
   "cell_type": "code",
   "execution_count": null,
   "id": "614ef0aa",
   "metadata": {},
   "outputs": [],
   "source": []
  },
  {
   "cell_type": "code",
   "execution_count": null,
   "id": "efa71880",
   "metadata": {},
   "outputs": [],
   "source": []
  },
  {
   "cell_type": "code",
   "execution_count": null,
   "id": "bc1a03b1",
   "metadata": {},
   "outputs": [],
   "source": []
  }
 ],
 "metadata": {
  "kernelspec": {
   "display_name": "Python 3 (ipykernel)",
   "language": "python",
   "name": "python3"
  },
  "language_info": {
   "codemirror_mode": {
    "name": "ipython",
    "version": 3
   },
   "file_extension": ".py",
   "mimetype": "text/x-python",
   "name": "python",
   "nbconvert_exporter": "python",
   "pygments_lexer": "ipython3",
   "version": "3.8.5"
  }
 },
 "nbformat": 4,
 "nbformat_minor": 5
}
